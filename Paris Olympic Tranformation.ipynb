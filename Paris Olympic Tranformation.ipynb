{
 "cells": [
  {
   "cell_type": "code",
   "execution_count": 0,
   "metadata": {
    "application/vnd.databricks.v1+cell": {
     "cellMetadata": {
      "byteLimit": 2048000,
      "rowLimit": 10000
     },
     "inputWidgets": {},
     "nuid": "0d3e6939-d1c9-4022-ade2-b1c4f713a468",
     "showTitle": false,
     "tableResultSettingsMap": {},
     "title": ""
    }
   },
   "outputs": [],
   "source": [
    "from pyspark.sql import SparkSession\n",
    "from pyspark.sql.functions import *\n",
    "from pyspark.sql.types import IntegerType, DoubleType, BooleanType, DateType, ArrayType"
   ]
  },
  {
   "cell_type": "code",
   "execution_count": 0,
   "metadata": {
    "application/vnd.databricks.v1+cell": {
     "cellMetadata": {
      "byteLimit": 2048000,
      "rowLimit": 10000
     },
     "inputWidgets": {},
     "nuid": "4cd6be29-9a7f-4e47-9a36-ea40c20aeb36",
     "showTitle": false,
     "tableResultSettingsMap": {},
     "title": ""
    }
   },
   "outputs": [],
   "source": [
    "spark = SparkSession.builder.appName(\"Paris Olympic Tranformation\").getOrCreate()"
   ]
  },
  {
   "cell_type": "markdown",
   "metadata": {
    "application/vnd.databricks.v1+cell": {
     "cellMetadata": {
      "byteLimit": 2048000,
      "rowLimit": 10000
     },
     "inputWidgets": {},
     "nuid": "e3aadc12-a673-403d-8bd1-5364f1dac8a1",
     "showTitle": false,
     "tableResultSettingsMap": {},
     "title": ""
    }
   },
   "source": [
    "# READ"
   ]
  },
  {
   "cell_type": "code",
   "execution_count": 0,
   "metadata": {
    "application/vnd.databricks.v1+cell": {
     "cellMetadata": {
      "byteLimit": 2048000,
      "rowLimit": 10000
     },
     "inputWidgets": {},
     "nuid": "7392ab27-3263-4157-97d2-531d2ba5bd79",
     "showTitle": false,
     "tableResultSettingsMap": {},
     "title": ""
    }
   },
   "outputs": [
    {
     "output_type": "stream",
     "name": "stdout",
     "output_type": "stream",
     "text": [
      "/mnt/paris-olympic-data is already mounted\n"
     ]
    }
   ],
   "source": [
    "configs = {\n",
    "    \"fs.azure.account.auth.type\": \"OAuth\",\n",
    "    \"fs.azure.account.oauth.provider.type\": \"org.apache.hadoop.fs.azurebfs.oauth2.ClientCredsTokenProvider\",\n",
    "    \"fs.azure.account.oauth2.client.id\": \"'client_id'\",\n",
    "    \"fs.azure.account.oauth2.client.secret\": \"'secret_key'\",\n",
    "    \"fs.azure.account.oauth2.client.endpoint\": \"https://login.microsoftonline.com/'tenant_id'/oauth2/token\"\n",
    "}\n",
    "\n",
    "mount_point = \"/mnt/paris-olympic-data\"\n",
    "if any(mount.mountPoint == mount_point for mount in dbutils.fs.mounts()):\n",
    "    print(f\"{mount_point} is already mounted\")\n",
    "else:\n",
    "    dbutils.fs.mount(\n",
    "        source=\"abfss://paris-olympic-data@parisolympic1.dfs.core.windows.net/\",\n",
    "        mount_point=mount_point,\n",
    "        extra_configs=configs\n",
    "    )"
   ]
  },
  {
   "cell_type": "code",
   "execution_count": 0,
   "metadata": {
    "application/vnd.databricks.v1+cell": {
     "cellMetadata": {
      "byteLimit": 2048000,
      "rowLimit": 10000
     },
     "inputWidgets": {},
     "nuid": "82b4fa14-9a41-4b9f-8bd7-67c47f9581ff",
     "showTitle": false,
     "tableResultSettingsMap": {},
     "title": ""
    }
   },
   "outputs": [
    {
     "output_type": "display_data",
     "data": {
      "text/html": [
       "<style scoped>\n",
       "  .table-result-container {\n",
       "    max-height: 300px;\n",
       "    overflow: auto;\n",
       "  }\n",
       "  table, th, td {\n",
       "    border: 1px solid black;\n",
       "    border-collapse: collapse;\n",
       "  }\n",
       "  th, td {\n",
       "    padding: 5px;\n",
       "  }\n",
       "  th {\n",
       "    text-align: left;\n",
       "  }\n",
       "</style><div class='table-result-container'><table class='table-result'><thead style='background-color: white'><tr><th>path</th><th>name</th><th>size</th><th>modificationTime</th></tr></thead><tbody><tr><td>dbfs:/mnt/paris-olympic/raw-data/athletes.csv</td><td>athletes.csv</td><td>7223512</td><td>1740826755000</td></tr><tr><td>dbfs:/mnt/paris-olympic/raw-data/coaches.csv</td><td>coaches.csv</td><td>93472</td><td>1740826770000</td></tr><tr><td>dbfs:/mnt/paris-olympic/raw-data/medals.csv</td><td>medals.csv</td><td>2974</td><td>1740826799000</td></tr><tr><td>dbfs:/mnt/paris-olympic/raw-data/teams.csv</td><td>teams.csv</td><td>444984</td><td>1740826786000</td></tr></tbody></table></div>"
      ]
     },
     "metadata": {
      "application/vnd.databricks.v1+output": {
       "addedWidgets": {},
       "aggData": [],
       "aggError": "",
       "aggOverflow": false,
       "aggSchema": [],
       "aggSeriesLimitReached": false,
       "aggType": "",
       "arguments": {},
       "columnCustomDisplayInfos": {},
       "data": [
        [
         "dbfs:/mnt/paris-olympic/raw-data/athletes.csv",
         "athletes.csv",
         7223512,
         1740826755000
        ],
        [
         "dbfs:/mnt/paris-olympic/raw-data/coaches.csv",
         "coaches.csv",
         93472,
         1740826770000
        ],
        [
         "dbfs:/mnt/paris-olympic/raw-data/medals.csv",
         "medals.csv",
         2974,
         1740826799000
        ],
        [
         "dbfs:/mnt/paris-olympic/raw-data/teams.csv",
         "teams.csv",
         444984,
         1740826786000
        ]
       ],
       "datasetInfos": [],
       "dbfsResultPath": null,
       "isJsonSchema": true,
       "metadata": {
        "isDbfsCommandResult": false
       },
       "overflow": false,
       "plotOptions": {
        "customPlotOptions": {},
        "displayType": "table",
        "pivotAggregation": null,
        "pivotColumns": null,
        "xColumns": null,
        "yColumns": null
       },
       "removedWidgets": [],
       "schema": [
        {
         "metadata": "{}",
         "name": "path",
         "type": "\"string\""
        },
        {
         "metadata": "{}",
         "name": "name",
         "type": "\"string\""
        },
        {
         "metadata": "{}",
         "name": "size",
         "type": "\"long\""
        },
        {
         "metadata": "{}",
         "name": "modificationTime",
         "type": "\"long\""
        }
       ],
       "type": "table"
      }
     },
     "output_type": "display_data"
    }
   ],
   "source": [
    "%fs \n",
    "ls \"/mnt/paris-olympic/raw-data\""
   ]
  },
  {
   "cell_type": "code",
   "execution_count": 0,
   "metadata": {
    "application/vnd.databricks.v1+cell": {
     "cellMetadata": {
      "byteLimit": 2048000,
      "rowLimit": 10000
     },
     "inputWidgets": {},
     "nuid": "0413caad-1559-47e9-a587-0bb528d0e55d",
     "showTitle": false,
     "tableResultSettingsMap": {},
     "title": ""
    }
   },
   "outputs": [],
   "source": [
    "athleteDF = spark.read.format(\"csv\").option(\"header\", \"true\").load(\"/mnt/paris-olympic/raw-data/athletes.csv\")\n",
    "coachDF = spark.read.format(\"csv\").option(\"header\", \"true\").load(\"/mnt/paris-olympic/raw-data/coaches.csv\")\n",
    "medalsDF = spark.read.format(\"csv\").option(\"header\", \"true\").load(\"/mnt/paris-olympic/raw-data/medals.csv\")\n",
    "teamsDF = spark.read.format(\"csv\").option(\"header\", \"true\").load(\"/mnt/paris-olympic/raw-data/teams.csv\")"
   ]
  },
  {
   "cell_type": "markdown",
   "metadata": {
    "application/vnd.databricks.v1+cell": {
     "cellMetadata": {
      "byteLimit": 2048000,
      "rowLimit": 10000
     },
     "inputWidgets": {},
     "nuid": "2c5f59a5-14d8-4b94-b6a5-747cbab26236",
     "showTitle": false,
     "tableResultSettingsMap": {},
     "title": ""
    }
   },
   "source": [
    "# TRANSFORM"
   ]
  },
  {
   "cell_type": "markdown",
   "metadata": {
    "application/vnd.databricks.v1+cell": {
     "cellMetadata": {
      "byteLimit": 2048000,
      "rowLimit": 10000
     },
     "inputWidgets": {},
     "nuid": "b9cd98e3-8754-4b4a-8e30-96a1a1d49728",
     "showTitle": false,
     "tableResultSettingsMap": {},
     "title": ""
    }
   },
   "source": [
    "## Athletes"
   ]
  },
  {
   "cell_type": "code",
   "execution_count": 0,
   "metadata": {
    "application/vnd.databricks.v1+cell": {
     "cellMetadata": {
      "byteLimit": 2048000,
      "rowLimit": 10000
     },
     "inputWidgets": {},
     "nuid": "0956a52a-75a9-4e2f-9a03-496cc254c972",
     "showTitle": false,
     "tableResultSettingsMap": {},
     "title": ""
    }
   },
   "outputs": [
    {
     "output_type": "stream",
     "name": "stdout",
     "output_type": "stream",
     "text": [
      "+-------+-------+-----------------+-------------+-----------------+------+--------+------------+-------+------------+-----------+----------------+----------------+------+------+-------------+--------------------+----------+-----------+-------------+---------------+-----------------+----------+--------------------+----------+--------------------+--------------------+--------------------+--------------------+--------------------+--------------------+--------------------+--------------------+--------------------+-------------+--------------------+\n|   code|current|             name|   name_short|          name_tv|gender|function|country_code|country|country_long|nationality|nationality_long|nationality_code|height|weight|  disciplines|              events|birth_date|birth_place|birth_country|residence_place|residence_country|  nickname|             hobbies|occupation|           education|              family|                lang|               coach|              reason|                hero|           influence|          philosophy|  sporting_relatives|       ritual|        other_sports|\n+-------+-------+-----------------+-------------+-----------------+------+--------+------------+-------+------------+-----------+----------------+----------------+------+------+-------------+--------------------+----------+-----------+-------------+---------------+-----------------+----------+--------------------+----------+--------------------+--------------------+--------------------+--------------------+--------------------+--------------------+--------------------+--------------------+--------------------+-------------+--------------------+\n|1532872|   True| ALEKSANYAN Artur| ALEKSANYAN A| Artur ALEKSANYAN|  Male| Athlete|         ARM|Armenia|     Armenia|    Armenia|         Armenia|             ARM|   0.0|   0.0|['Wrestling']|\"[\"\"Men's Greco-R...|1991-10-21|     GYUMRI|      Armenia|         GYUMRI|          Armenia|White Bear|Playing and watch...|   Athlete|Graduated from Sh...|Father, Gevorg Al...|Armenian, English...|Gevorg Aleksanyan...|He followed his f...|Footballer Zinedi...|His father, Gevor...|\"\"\"Wrestling is m...|                null|         null|                null|\n|1532873|   True|   AMOYAN Malkhas|     AMOYAN M|   Malkhas AMOYAN|  Male| Athlete|         ARM|Armenia|     Armenia|    Armenia|         Armenia|             ARM|   0.0|   0.0|['Wrestling']|\"[\"\"Men's Greco-R...|1999-01-22|    YEREVAN|      Armenia|        YEREVAN|          Armenia|      null|                null|      null|                null|                null|            Armenian|                null|                null|                null|                null|\"\"\"To become a go...| you first have t...| 6 Oct 2018)\"|Uncle, Roman Amoy...|\n|1532874|   True|  GALSTYAN Slavik|   GALSTYAN S|  Slavik GALSTYAN|  Male| Athlete|         ARM|Armenia|     Armenia|    Armenia|         Armenia|             ARM|   0.0|   0.0|['Wrestling']|\"[\"\"Men's Greco-R...|1996-12-21|       null|         null|        YEREVAN|          Armenia|      null|                null|      null|                null|                null|            Armenian|Personal: Martin ...|                null|                null|                null|                null|                null|         null|                null|\n|1532944|   True|HARUTYUNYAN Arsen|HARUTYUNYAN A|Arsen HARUTYUNYAN|  Male| Athlete|         ARM|Armenia|     Armenia|    Armenia|         Armenia|             ARM|   0.0|   0.0|['Wrestling']|\"[\"\"Men's Freesty...|1999-11-22|      MASIS|      Armenia|        YEREVAN|          Armenia|      null|                null|   Athlete|Graduated with a ...|Wife, Diana (marr...|            Armenian|National: Habetna...|While doing karat...|Wrestler Armen Na...|                null|“Nothing is impos...|                null|         null|                null|\n|1532945|   True|  TEVANYAN Vazgen|   TEVANYAN V|  Vazgen TEVANYAN|  Male| Athlete|         ARM|Armenia|     Armenia|    Armenia|         Armenia|             ARM|   0.0|   0.0|['Wrestling']|\"[\"\"Men's Freesty...|1999-10-27|  POKR VEDI|      Armenia|           null|          Armenia|      null|                null|   Athlete|Studied at the Ar...|Wife, Sona (marri...|   Armenian, Russian|National: Habetna...|“My family did no...|                null|                null|                null|                null|         null|                null|\n+-------+-------+-----------------+-------------+-----------------+------+--------+------------+-------+------------+-----------+----------------+----------------+------+------+-------------+--------------------+----------+-----------+-------------+---------------+-----------------+----------+--------------------+----------+--------------------+--------------------+--------------------+--------------------+--------------------+--------------------+--------------------+--------------------+--------------------+-------------+--------------------+\nonly showing top 5 rows\n\n"
     ]
    }
   ],
   "source": [
    "athleteDF.show(5)"
   ]
  },
  {
   "cell_type": "code",
   "execution_count": 0,
   "metadata": {
    "application/vnd.databricks.v1+cell": {
     "cellMetadata": {
      "byteLimit": 2048000,
      "rowLimit": 10000
     },
     "inputWidgets": {},
     "nuid": "bbd8c18e-0e8e-4e96-acd4-9febae26e7e0",
     "showTitle": false,
     "tableResultSettingsMap": {},
     "title": ""
    }
   },
   "outputs": [],
   "source": [
    "athleteDF = athleteDF.select(\n",
    "    col(\"code\").cast(IntegerType()), \n",
    "    col(\"current\").cast(BooleanType()), \n",
    "    col(\"name\"), col(\"gender\"), \n",
    "    col(\"function\"), \n",
    "    col(\"country_code\"), \n",
    "    explode(array(regexp_replace(col(\"disciplines\"), r'[\\[\\]\\',]', ''))).alias(\"disciplines\"),\n",
    "    col(\"birth_date\").cast(DateType())\n",
    ")"
   ]
  },
  {
   "cell_type": "code",
   "execution_count": 0,
   "metadata": {
    "application/vnd.databricks.v1+cell": {
     "cellMetadata": {
      "byteLimit": 2048000,
      "rowLimit": 10000
     },
     "inputWidgets": {},
     "nuid": "2b81df47-ab27-4105-a36f-e80d62748280",
     "showTitle": false,
     "tableResultSettingsMap": {},
     "title": ""
    }
   },
   "outputs": [
    {
     "output_type": "stream",
     "name": "stdout",
     "output_type": "stream",
     "text": [
      "+-------+-------+-----------------+------+--------+------------+-----------+----------+\n|   code|current|             name|gender|function|country_code|disciplines|birth_date|\n+-------+-------+-----------------+------+--------+------------+-----------+----------+\n|1532872|   true| ALEKSANYAN Artur|  Male| Athlete|         ARM|  Wrestling|1991-10-21|\n|1532873|   true|   AMOYAN Malkhas|  Male| Athlete|         ARM|  Wrestling|1999-01-22|\n|1532874|   true|  GALSTYAN Slavik|  Male| Athlete|         ARM|  Wrestling|1996-12-21|\n|1532944|   true|HARUTYUNYAN Arsen|  Male| Athlete|         ARM|  Wrestling|1999-11-22|\n|1532945|   true|  TEVANYAN Vazgen|  Male| Athlete|         ARM|  Wrestling|1999-10-27|\n+-------+-------+-----------------+------+--------+------------+-----------+----------+\nonly showing top 5 rows\n\n"
     ]
    }
   ],
   "source": [
    "athleteDF.show(5)"
   ]
  },
  {
   "cell_type": "code",
   "execution_count": 0,
   "metadata": {
    "application/vnd.databricks.v1+cell": {
     "cellMetadata": {
      "byteLimit": 2048000,
      "rowLimit": 10000
     },
     "inputWidgets": {},
     "nuid": "9e3e58ff-7cc4-4e8d-9f34-1bf9e54701dc",
     "showTitle": false,
     "tableResultSettingsMap": {},
     "title": ""
    }
   },
   "outputs": [
    {
     "output_type": "stream",
     "name": "stdout",
     "output_type": "stream",
     "text": [
      "root\n |-- code: integer (nullable = true)\n |-- current: boolean (nullable = true)\n |-- name: string (nullable = true)\n |-- gender: string (nullable = true)\n |-- function: string (nullable = true)\n |-- country_code: string (nullable = true)\n |-- disciplines: string (nullable = true)\n |-- birth_date: date (nullable = true)\n\n"
     ]
    }
   ],
   "source": [
    "athleteDF.printSchema()"
   ]
  },
  {
   "cell_type": "markdown",
   "metadata": {
    "application/vnd.databricks.v1+cell": {
     "cellMetadata": {
      "byteLimit": 2048000,
      "rowLimit": 10000
     },
     "inputWidgets": {},
     "nuid": "46cec2e3-12b0-44db-8a3d-c479eebcc3d7",
     "showTitle": false,
     "tableResultSettingsMap": {},
     "title": ""
    }
   },
   "source": [
    "## Coaches"
   ]
  },
  {
   "cell_type": "code",
   "execution_count": 0,
   "metadata": {
    "application/vnd.databricks.v1+cell": {
     "cellMetadata": {
      "byteLimit": 2048000,
      "rowLimit": 10000
     },
     "inputWidgets": {},
     "nuid": "6a0ca8c1-ae41-4f80-85f3-712d0d560d19",
     "showTitle": false,
     "tableResultSettingsMap": {},
     "title": ""
    }
   },
   "outputs": [
    {
     "output_type": "stream",
     "name": "stdout",
     "output_type": "stream",
     "text": [
      "+-------+-------+-------------------+------+----------+--------+------------+-------+--------------------+-----------------+------+----------+\n|   code|current|               name|gender|  function|category|country_code|country|        country_long|      disciplines|events|birth_date|\n+-------+-------+-------------------+------+----------+--------+------------+-------+--------------------+-----------------+------+----------+\n|1533246|   True|     PEDRERO Ofelia|Female|     Coach|       C|         MEX| Mexico|              Mexico|Artistic Swimming|  Team|1988-03-28|\n|1535775|   True|   RADHI SHENAISHIL|  Male|Head Coach|       C|         IRQ|   Iraq|                Iraq|         Football|   Men|1965-07-01|\n|1536055|   True|AFLAKIKHAMSEH Majid|  Male|     Coach|       C|         IRI|IR Iran|Islamic Republic ...|        Taekwondo|  null|1973-08-26|\n|1536059|   True|    YOUSEFY Mehrdad|  Male|     Coach|       C|         IRI|IR Iran|Islamic Republic ...|        Taekwondo|  null|1972-06-12|\n|1536060|   True|       MADDAH Minoo|Female|     Coach|       C|         IRI|IR Iran|Islamic Republic ...|        Taekwondo|  null|1976-05-17|\n+-------+-------+-------------------+------+----------+--------+------------+-------+--------------------+-----------------+------+----------+\nonly showing top 5 rows\n\n"
     ]
    }
   ],
   "source": [
    "coachDF.show(5)"
   ]
  },
  {
   "cell_type": "code",
   "execution_count": 0,
   "metadata": {
    "application/vnd.databricks.v1+cell": {
     "cellMetadata": {
      "byteLimit": 2048000,
      "rowLimit": 10000
     },
     "inputWidgets": {},
     "nuid": "0cc8515b-7fad-4bd1-ad79-620c45454a62",
     "showTitle": false,
     "tableResultSettingsMap": {},
     "title": ""
    }
   },
   "outputs": [],
   "source": [
    "coachDF = coachDF.select(\n",
    "    col(\"code\").cast(IntegerType()), \n",
    "    col(\"current\").cast(BooleanType()), \n",
    "    col(\"name\"), \n",
    "    col(\"gender\"), \n",
    "    col(\"function\"), \n",
    "    col(\"category\"), \n",
    "    col(\"country_code\"),  \n",
    "    col(\"disciplines\"), \n",
    "    col(\"birth_date\").cast(DateType())\n",
    ")"
   ]
  },
  {
   "cell_type": "code",
   "execution_count": 0,
   "metadata": {
    "application/vnd.databricks.v1+cell": {
     "cellMetadata": {
      "byteLimit": 2048000,
      "rowLimit": 10000
     },
     "inputWidgets": {},
     "nuid": "37d0af92-9eaf-4105-a8ef-055bd68b4667",
     "showTitle": false,
     "tableResultSettingsMap": {},
     "title": ""
    }
   },
   "outputs": [
    {
     "output_type": "stream",
     "name": "stdout",
     "output_type": "stream",
     "text": [
      "root\n |-- code: integer (nullable = true)\n |-- current: boolean (nullable = true)\n |-- name: string (nullable = true)\n |-- gender: string (nullable = true)\n |-- function: string (nullable = true)\n |-- category: string (nullable = true)\n |-- country_code: string (nullable = true)\n |-- disciplines: string (nullable = true)\n |-- birth_date: date (nullable = true)\n\n"
     ]
    }
   ],
   "source": [
    "coachDF.printSchema()"
   ]
  },
  {
   "cell_type": "markdown",
   "metadata": {
    "application/vnd.databricks.v1+cell": {
     "cellMetadata": {
      "byteLimit": 2048000,
      "rowLimit": 10000
     },
     "inputWidgets": {},
     "nuid": "1e9697b9-cdda-4b93-abdd-4f9b800b0762",
     "showTitle": false,
     "tableResultSettingsMap": {},
     "title": ""
    }
   },
   "source": [
    "## Teams"
   ]
  },
  {
   "cell_type": "code",
   "execution_count": 0,
   "metadata": {
    "application/vnd.databricks.v1+cell": {
     "cellMetadata": {
      "byteLimit": 2048000,
      "rowLimit": 10000
     },
     "inputWidgets": {},
     "nuid": "3b88547d-b091-4ea4-a9ff-670b62d073e5",
     "showTitle": false,
     "tableResultSettingsMap": {},
     "title": ""
    }
   },
   "outputs": [
    {
     "output_type": "stream",
     "name": "stdout",
     "output_type": "stream",
     "text": [
      "+-----------------+-------+--------------------+-----------+------------+-------------+--------------------+----------+----------------+----------+--------------------+-------+--------------------+------------+-------------+-----------+\n|             code|current|                team|team_gender|country_code|      country|        country_long|discipline|disciplines_code|    events|            athletes|coaches|      athletes_codes|num_athletes|coaches_codes|num_coaches|\n+-----------------+-------+--------------------+-----------+------------+-------------+--------------------+----------+----------------+----------+--------------------+-------+--------------------+------------+-------------+-----------+\n|ARCMTEAM3---CHN01|   True|People's Republic...|          M|         CHN|        China|People's Republic...|   Archery|             ARC|Men's Team|['KAO Wenchao', '...|   null|['1913366', '1913...|         3.0|         null|       null|\n|ARCMTEAM3---COL01|   True|            Colombia|          M|         COL|     Colombia|            Colombia|   Archery|             ARC|Men's Team|['ARCILA Santiago...|   null|['1935642', '1543...|         3.0|         null|       null|\n|ARCMTEAM3---FRA01|   True|              France|          M|         FRA|       France|              France|   Archery|             ARC|Men's Team|['ADDIS Baptiste'...|   null|['1541270', '1541...|         3.0|         null|       null|\n|ARCMTEAM3---GBR01|   True|       Great Britain|          M|         GBR|Great Britain|       Great Britain|   Archery|             ARC|Men's Team|['HALL Conor', 'H...|   null|['1560988', '1560...|         3.0|         null|       null|\n|ARCMTEAM3---IND01|   True|               India|          M|         IND|        India|               India|   Archery|             ARC|Men's Team|['BOMMADEVARA Dhi...|   null|['1546108', '1546...|         3.0|         null|       null|\n+-----------------+-------+--------------------+-----------+------------+-------------+--------------------+----------+----------------+----------+--------------------+-------+--------------------+------------+-------------+-----------+\nonly showing top 5 rows\n\n"
     ]
    }
   ],
   "source": [
    "teamsDF.show(5)"
   ]
  },
  {
   "cell_type": "code",
   "execution_count": 0,
   "metadata": {
    "application/vnd.databricks.v1+cell": {
     "cellMetadata": {
      "byteLimit": 2048000,
      "rowLimit": 10000
     },
     "inputWidgets": {},
     "nuid": "084cf099-8baf-4826-aa77-112e324f83fe",
     "showTitle": false,
     "tableResultSettingsMap": {},
     "title": ""
    }
   },
   "outputs": [],
   "source": [
    "teamsDF = teamsDF.withColumn(\n",
    "    \"athletes_codes\",\n",
    "    split(regexp_replace(col(\"athletes_codes\"), r'[\\[\\]\\']', ''), \",\").cast(ArrayType(IntegerType()))\n",
    ")"
   ]
  },
  {
   "cell_type": "code",
   "execution_count": 0,
   "metadata": {
    "application/vnd.databricks.v1+cell": {
     "cellMetadata": {
      "byteLimit": 2048000,
      "rowLimit": 10000
     },
     "inputWidgets": {},
     "nuid": "8f5a1d6b-e308-49e0-85f2-4c4f975bba8d",
     "showTitle": false,
     "tableResultSettingsMap": {},
     "title": ""
    }
   },
   "outputs": [],
   "source": [
    "teamsDF = teamsDF.select(\n",
    "    col(\"code\"),\n",
    "    col(\"current\"),\n",
    "    col(\"team_gender\"),\n",
    "    col(\"country_code\"),\n",
    "    col(\"discipline\"),\n",
    "    explode(col(\"athletes_codes\")).alias(\"athletes_codes\")\n",
    ")"
   ]
  },
  {
   "cell_type": "code",
   "execution_count": 0,
   "metadata": {
    "application/vnd.databricks.v1+cell": {
     "cellMetadata": {
      "byteLimit": 2048000,
      "rowLimit": 10000
     },
     "inputWidgets": {},
     "nuid": "f17bc2b6-306b-4d7b-90e4-8cc8804ced64",
     "showTitle": false,
     "tableResultSettingsMap": {},
     "title": ""
    }
   },
   "outputs": [
    {
     "output_type": "stream",
     "name": "stdout",
     "output_type": "stream",
     "text": [
      "+-----------------+-------+-----------+------------+----------+--------------+\n|             code|current|team_gender|country_code|discipline|athletes_codes|\n+-----------------+-------+-----------+------------+----------+--------------+\n|ARCMTEAM3---CHN01|   True|          M|         CHN|   Archery|       1913366|\n|ARCMTEAM3---CHN01|   True|          M|         CHN|   Archery|       1913367|\n|ARCMTEAM3---CHN01|   True|          M|         CHN|   Archery|       1913369|\n|ARCMTEAM3---COL01|   True|          M|         COL|   Archery|       1935642|\n|ARCMTEAM3---COL01|   True|          M|         COL|   Archery|       1543412|\n+-----------------+-------+-----------+------------+----------+--------------+\nonly showing top 5 rows\n\n"
     ]
    }
   ],
   "source": [
    "teamsDF.show(5)"
   ]
  },
  {
   "cell_type": "code",
   "execution_count": 0,
   "metadata": {
    "application/vnd.databricks.v1+cell": {
     "cellMetadata": {
      "byteLimit": 2048000,
      "rowLimit": 10000
     },
     "inputWidgets": {},
     "nuid": "7e398a46-8f42-4212-953e-001e3508a3c0",
     "showTitle": false,
     "tableResultSettingsMap": {},
     "title": ""
    }
   },
   "outputs": [
    {
     "output_type": "stream",
     "name": "stdout",
     "output_type": "stream",
     "text": [
      "root\n |-- code: string (nullable = true)\n |-- current: string (nullable = true)\n |-- team_gender: string (nullable = true)\n |-- country_code: string (nullable = true)\n |-- discipline: string (nullable = true)\n |-- athletes_codes: integer (nullable = true)\n\n"
     ]
    }
   ],
   "source": [
    "teamsDF.printSchema()"
   ]
  },
  {
   "cell_type": "markdown",
   "metadata": {
    "application/vnd.databricks.v1+cell": {
     "cellMetadata": {
      "byteLimit": 2048000,
      "rowLimit": 10000
     },
     "inputWidgets": {},
     "nuid": "95758d9b-d099-42ad-9c17-61ad8a94473e",
     "showTitle": false,
     "tableResultSettingsMap": {},
     "title": ""
    }
   },
   "source": [
    "## Medals"
   ]
  },
  {
   "cell_type": "code",
   "execution_count": 0,
   "metadata": {
    "application/vnd.databricks.v1+cell": {
     "cellMetadata": {
      "byteLimit": 2048000,
      "rowLimit": 10000
     },
     "inputWidgets": {},
     "nuid": "6c4b66e0-9295-4d15-83d6-ff38eac29476",
     "showTitle": false,
     "tableResultSettingsMap": {},
     "title": ""
    }
   },
   "outputs": [
    {
     "output_type": "stream",
     "name": "stdout",
     "output_type": "stream",
     "text": [
      "+------------+-------------+--------------------+----------+------------+------------+-----+\n|country_code|      country|        country_long|Gold Medal|Silver Medal|Bronze Medal|Total|\n+------------+-------------+--------------------+----------+------------+------------+-----+\n|         USA|United States|United States of ...|        40|          44|          42|  126|\n|         CHN|        China|People's Republic...|        40|          27|          24|   91|\n|         JPN|        Japan|               Japan|        20|          12|          13|   45|\n|         AUS|    Australia|           Australia|        18|          19|          16|   53|\n|         FRA|       France|              France|        16|          26|          22|   64|\n+------------+-------------+--------------------+----------+------------+------------+-----+\nonly showing top 5 rows\n\n"
     ]
    }
   ],
   "source": [
    "medalsDF.show(5)"
   ]
  },
  {
   "cell_type": "code",
   "execution_count": 0,
   "metadata": {
    "application/vnd.databricks.v1+cell": {
     "cellMetadata": {
      "byteLimit": 2048000,
      "rowLimit": 10000
     },
     "inputWidgets": {},
     "nuid": "7835fa38-d362-402e-8c62-e4544ea3fd93",
     "showTitle": false,
     "tableResultSettingsMap": {},
     "title": ""
    }
   },
   "outputs": [],
   "source": [
    "medalsDF = medalsDF.select(\n",
    "    col(\"country_code\"), \n",
    "    col(\"country\"), \n",
    "    col(\"country_long\"), \n",
    "    col(\"Gold Medal\").cast(IntegerType()), \n",
    "    col(\"Silver Medal\").cast(IntegerType()), \n",
    "    col(\"Bronze Medal\").cast(IntegerType()), \n",
    "    col(\"Total\").cast(IntegerType())\n",
    ")\n"
   ]
  },
  {
   "cell_type": "code",
   "execution_count": 0,
   "metadata": {
    "application/vnd.databricks.v1+cell": {
     "cellMetadata": {
      "byteLimit": 2048000,
      "rowLimit": 10000
     },
     "inputWidgets": {},
     "nuid": "1300fe33-3afd-431a-bbe1-fac0611777ca",
     "showTitle": false,
     "tableResultSettingsMap": {},
     "title": ""
    }
   },
   "outputs": [
    {
     "output_type": "stream",
     "name": "stdout",
     "output_type": "stream",
     "text": [
      "root\n |-- country_code: string (nullable = true)\n |-- country: string (nullable = true)\n |-- country_long: string (nullable = true)\n |-- Gold Medal: integer (nullable = true)\n |-- Silver Medal: integer (nullable = true)\n |-- Bronze Medal: integer (nullable = true)\n |-- Total: integer (nullable = true)\n\n"
     ]
    }
   ],
   "source": [
    "medalsDF.printSchema()"
   ]
  },
  {
   "cell_type": "markdown",
   "metadata": {
    "application/vnd.databricks.v1+cell": {
     "cellMetadata": {
      "byteLimit": 2048000,
      "rowLimit": 10000
     },
     "inputWidgets": {},
     "nuid": "858832a5-7baa-4bc2-91e4-0d8a7cd4c3cb",
     "showTitle": false,
     "tableResultSettingsMap": {},
     "title": ""
    }
   },
   "source": [
    "# WRITE"
   ]
  },
  {
   "cell_type": "code",
   "execution_count": 0,
   "metadata": {
    "application/vnd.databricks.v1+cell": {
     "cellMetadata": {
      "byteLimit": 2048000,
      "rowLimit": 10000
     },
     "inputWidgets": {},
     "nuid": "28173201-6e4b-45a0-b281-6cc4f350ca75",
     "showTitle": false,
     "tableResultSettingsMap": {},
     "title": ""
    }
   },
   "outputs": [
    {
     "output_type": "display_data",
     "data": {
      "text/html": [
       "<style scoped>\n",
       "  .table-result-container {\n",
       "    max-height: 300px;\n",
       "    overflow: auto;\n",
       "  }\n",
       "  table, th, td {\n",
       "    border: 1px solid black;\n",
       "    border-collapse: collapse;\n",
       "  }\n",
       "  th, td {\n",
       "    padding: 5px;\n",
       "  }\n",
       "  th {\n",
       "    text-align: left;\n",
       "  }\n",
       "</style><div class='table-result-container'><table class='table-result'><thead style='background-color: white'><tr></tr></thead><tbody></tbody></table></div>"
      ]
     },
     "metadata": {
      "application/vnd.databricks.v1+output": {
       "addedWidgets": {},
       "aggData": [],
       "aggError": "",
       "aggOverflow": false,
       "aggSchema": [],
       "aggSeriesLimitReached": false,
       "aggType": "",
       "arguments": {},
       "columnCustomDisplayInfos": {},
       "data": [],
       "datasetInfos": [],
       "dbfsResultPath": null,
       "isJsonSchema": true,
       "metadata": {
        "isDbfsCommandResult": false
       },
       "overflow": false,
       "plotOptions": {
        "customPlotOptions": {},
        "displayType": "table",
        "pivotAggregation": null,
        "pivotColumns": null,
        "xColumns": null,
        "yColumns": null
       },
       "removedWidgets": [],
       "schema": [],
       "type": "table"
      }
     },
     "output_type": "display_data"
    }
   ],
   "source": [
    "%fs\n",
    "ls /mnt/paris-olympic/transformed-data"
   ]
  },
  {
   "cell_type": "code",
   "execution_count": 0,
   "metadata": {
    "application/vnd.databricks.v1+cell": {
     "cellMetadata": {
      "byteLimit": 2048000,
      "rowLimit": 10000
     },
     "inputWidgets": {},
     "nuid": "2f7df2da-6a65-4e00-8527-b7c24126dca8",
     "showTitle": false,
     "tableResultSettingsMap": {},
     "title": ""
    }
   },
   "outputs": [],
   "source": [
    "athleteDF.write.mode(\"overwrite\").option(\"header\", \"true\").parquet(mount_point + '/transformed-data/athletes')\n",
    "coachDF.write.mode(\"overwrite\").option(\"header\", \"true\").parquet(mount_point + '/transformed-data/coaches')\n",
    "teamsDF.write.mode(\"overwrite\").option(\"header\", \"true\").parquet(mount_point + '/transformed-data/teams')\n",
    "medalsDF.write.mode(\"overwrite\").option(\"header\", \"true\").parquet(mount_point + '/transformed-data/medals')"
   ]
  }
 ],
 "metadata": {
  "application/vnd.databricks.v1+notebook": {
   "computePreferences": null,
   "dashboards": [],
   "environmentMetadata": {
    "base_environment": "",
    "environment_version": "2"
   },
   "language": "python",
   "notebookMetadata": {
    "mostRecentlyExecutedCommandWithImplicitDF": {
     "commandId": 4642856826918880,
     "dataframes": [
      "_sqldf"
     ]
    },
    "pythonIndentUnit": 4
   },
   "notebookName": "Paris Olympic Tranformation",
   "widgets": {}
  },
  "language_info": {
   "name": "python"
  }
 },
 "nbformat": 4,
 "nbformat_minor": 0
}
